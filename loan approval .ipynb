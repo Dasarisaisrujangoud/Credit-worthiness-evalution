{
 "cells": [
  {
   "cell_type": "code",
   "execution_count": 1,
   "id": "20170af2",
   "metadata": {},
   "outputs": [],
   "source": [
    "#importing libraries \n",
    "import pandas as pd + \n",
    "import numpy as np \n",
    "import matplotlib.pyplot as plt \n",
    "import seaborn as sns \n",
    "from sklearn.metrics import classification_report, confusion_matrix \n"
   ]
  },
  {
   "cell_type": "code",
   "execution_count": 2,
   "id": "600e5495",
   "metadata": {},
   "outputs": [],
   "source": [
    "df=pd.read_csv('loan_approval_dataset.csv')"
   ]
  },
  {
   "cell_type": "code",
   "execution_count": 3,
   "id": "5f259e00",
   "metadata": {},
   "outputs": [
    {
     "data": {
      "text/html": [
       "<div>\n",
       "<style scoped>\n",
       "    .dataframe tbody tr th:only-of-type {\n",
       "        vertical-align: middle;\n",
       "    }\n",
       "\n",
       "    .dataframe tbody tr th {\n",
       "        vertical-align: top;\n",
       "    }\n",
       "\n",
       "    .dataframe thead th {\n",
       "        text-align: right;\n",
       "    }\n",
       "</style>\n",
       "<table border=\"1\" class=\"dataframe\">\n",
       "  <thead>\n",
       "    <tr style=\"text-align: right;\">\n",
       "      <th></th>\n",
       "      <th>loan_id</th>\n",
       "      <th>no_of_dependents</th>\n",
       "      <th>education</th>\n",
       "      <th>self_employed</th>\n",
       "      <th>income_annum</th>\n",
       "      <th>loan_amount</th>\n",
       "      <th>loan_term</th>\n",
       "      <th>cibil_score</th>\n",
       "      <th>residential_assets_value</th>\n",
       "      <th>commercial_assets_value</th>\n",
       "      <th>luxury_assets_value</th>\n",
       "      <th>bank_asset_value</th>\n",
       "      <th>loan_status</th>\n",
       "    </tr>\n",
       "  </thead>\n",
       "  <tbody>\n",
       "    <tr>\n",
       "      <th>0</th>\n",
       "      <td>1</td>\n",
       "      <td>2</td>\n",
       "      <td>Graduate</td>\n",
       "      <td>No</td>\n",
       "      <td>9600000</td>\n",
       "      <td>29900000</td>\n",
       "      <td>12</td>\n",
       "      <td>778</td>\n",
       "      <td>2400000</td>\n",
       "      <td>17600000</td>\n",
       "      <td>22700000</td>\n",
       "      <td>8000000</td>\n",
       "      <td>Approved</td>\n",
       "    </tr>\n",
       "    <tr>\n",
       "      <th>1</th>\n",
       "      <td>2</td>\n",
       "      <td>0</td>\n",
       "      <td>Not Graduate</td>\n",
       "      <td>Yes</td>\n",
       "      <td>4100000</td>\n",
       "      <td>12200000</td>\n",
       "      <td>8</td>\n",
       "      <td>417</td>\n",
       "      <td>2700000</td>\n",
       "      <td>2200000</td>\n",
       "      <td>8800000</td>\n",
       "      <td>3300000</td>\n",
       "      <td>Rejected</td>\n",
       "    </tr>\n",
       "    <tr>\n",
       "      <th>2</th>\n",
       "      <td>3</td>\n",
       "      <td>3</td>\n",
       "      <td>Graduate</td>\n",
       "      <td>No</td>\n",
       "      <td>9100000</td>\n",
       "      <td>29700000</td>\n",
       "      <td>20</td>\n",
       "      <td>506</td>\n",
       "      <td>7100000</td>\n",
       "      <td>4500000</td>\n",
       "      <td>33300000</td>\n",
       "      <td>12800000</td>\n",
       "      <td>Rejected</td>\n",
       "    </tr>\n",
       "    <tr>\n",
       "      <th>3</th>\n",
       "      <td>4</td>\n",
       "      <td>3</td>\n",
       "      <td>Graduate</td>\n",
       "      <td>No</td>\n",
       "      <td>8200000</td>\n",
       "      <td>30700000</td>\n",
       "      <td>8</td>\n",
       "      <td>467</td>\n",
       "      <td>18200000</td>\n",
       "      <td>3300000</td>\n",
       "      <td>23300000</td>\n",
       "      <td>7900000</td>\n",
       "      <td>Rejected</td>\n",
       "    </tr>\n",
       "    <tr>\n",
       "      <th>4</th>\n",
       "      <td>5</td>\n",
       "      <td>5</td>\n",
       "      <td>Not Graduate</td>\n",
       "      <td>Yes</td>\n",
       "      <td>9800000</td>\n",
       "      <td>24200000</td>\n",
       "      <td>20</td>\n",
       "      <td>382</td>\n",
       "      <td>12400000</td>\n",
       "      <td>8200000</td>\n",
       "      <td>29400000</td>\n",
       "      <td>5000000</td>\n",
       "      <td>Rejected</td>\n",
       "    </tr>\n",
       "    <tr>\n",
       "      <th>...</th>\n",
       "      <td>...</td>\n",
       "      <td>...</td>\n",
       "      <td>...</td>\n",
       "      <td>...</td>\n",
       "      <td>...</td>\n",
       "      <td>...</td>\n",
       "      <td>...</td>\n",
       "      <td>...</td>\n",
       "      <td>...</td>\n",
       "      <td>...</td>\n",
       "      <td>...</td>\n",
       "      <td>...</td>\n",
       "      <td>...</td>\n",
       "    </tr>\n",
       "    <tr>\n",
       "      <th>4264</th>\n",
       "      <td>4265</td>\n",
       "      <td>5</td>\n",
       "      <td>Graduate</td>\n",
       "      <td>Yes</td>\n",
       "      <td>1000000</td>\n",
       "      <td>2300000</td>\n",
       "      <td>12</td>\n",
       "      <td>317</td>\n",
       "      <td>2800000</td>\n",
       "      <td>500000</td>\n",
       "      <td>3300000</td>\n",
       "      <td>800000</td>\n",
       "      <td>Rejected</td>\n",
       "    </tr>\n",
       "    <tr>\n",
       "      <th>4265</th>\n",
       "      <td>4266</td>\n",
       "      <td>0</td>\n",
       "      <td>Not Graduate</td>\n",
       "      <td>Yes</td>\n",
       "      <td>3300000</td>\n",
       "      <td>11300000</td>\n",
       "      <td>20</td>\n",
       "      <td>559</td>\n",
       "      <td>4200000</td>\n",
       "      <td>2900000</td>\n",
       "      <td>11000000</td>\n",
       "      <td>1900000</td>\n",
       "      <td>Approved</td>\n",
       "    </tr>\n",
       "    <tr>\n",
       "      <th>4266</th>\n",
       "      <td>4267</td>\n",
       "      <td>2</td>\n",
       "      <td>Not Graduate</td>\n",
       "      <td>No</td>\n",
       "      <td>6500000</td>\n",
       "      <td>23900000</td>\n",
       "      <td>18</td>\n",
       "      <td>457</td>\n",
       "      <td>1200000</td>\n",
       "      <td>12400000</td>\n",
       "      <td>18100000</td>\n",
       "      <td>7300000</td>\n",
       "      <td>Rejected</td>\n",
       "    </tr>\n",
       "    <tr>\n",
       "      <th>4267</th>\n",
       "      <td>4268</td>\n",
       "      <td>1</td>\n",
       "      <td>Not Graduate</td>\n",
       "      <td>No</td>\n",
       "      <td>4100000</td>\n",
       "      <td>12800000</td>\n",
       "      <td>8</td>\n",
       "      <td>780</td>\n",
       "      <td>8200000</td>\n",
       "      <td>700000</td>\n",
       "      <td>14100000</td>\n",
       "      <td>5800000</td>\n",
       "      <td>Approved</td>\n",
       "    </tr>\n",
       "    <tr>\n",
       "      <th>4268</th>\n",
       "      <td>4269</td>\n",
       "      <td>1</td>\n",
       "      <td>Graduate</td>\n",
       "      <td>No</td>\n",
       "      <td>9200000</td>\n",
       "      <td>29700000</td>\n",
       "      <td>10</td>\n",
       "      <td>607</td>\n",
       "      <td>17800000</td>\n",
       "      <td>11800000</td>\n",
       "      <td>35700000</td>\n",
       "      <td>12000000</td>\n",
       "      <td>Approved</td>\n",
       "    </tr>\n",
       "  </tbody>\n",
       "</table>\n",
       "<p>4269 rows × 13 columns</p>\n",
       "</div>"
      ],
      "text/plain": [
       "      loan_id   no_of_dependents      education  self_employed   income_annum  \\\n",
       "0           1                  2       Graduate             No        9600000   \n",
       "1           2                  0   Not Graduate            Yes        4100000   \n",
       "2           3                  3       Graduate             No        9100000   \n",
       "3           4                  3       Graduate             No        8200000   \n",
       "4           5                  5   Not Graduate            Yes        9800000   \n",
       "...       ...                ...            ...            ...            ...   \n",
       "4264     4265                  5       Graduate            Yes        1000000   \n",
       "4265     4266                  0   Not Graduate            Yes        3300000   \n",
       "4266     4267                  2   Not Graduate             No        6500000   \n",
       "4267     4268                  1   Not Graduate             No        4100000   \n",
       "4268     4269                  1       Graduate             No        9200000   \n",
       "\n",
       "       loan_amount   loan_term   cibil_score   residential_assets_value  \\\n",
       "0         29900000          12           778                    2400000   \n",
       "1         12200000           8           417                    2700000   \n",
       "2         29700000          20           506                    7100000   \n",
       "3         30700000           8           467                   18200000   \n",
       "4         24200000          20           382                   12400000   \n",
       "...            ...         ...           ...                        ...   \n",
       "4264       2300000          12           317                    2800000   \n",
       "4265      11300000          20           559                    4200000   \n",
       "4266      23900000          18           457                    1200000   \n",
       "4267      12800000           8           780                    8200000   \n",
       "4268      29700000          10           607                   17800000   \n",
       "\n",
       "       commercial_assets_value   luxury_assets_value   bank_asset_value  \\\n",
       "0                     17600000              22700000            8000000   \n",
       "1                      2200000               8800000            3300000   \n",
       "2                      4500000              33300000           12800000   \n",
       "3                      3300000              23300000            7900000   \n",
       "4                      8200000              29400000            5000000   \n",
       "...                        ...                   ...                ...   \n",
       "4264                    500000               3300000             800000   \n",
       "4265                   2900000              11000000            1900000   \n",
       "4266                  12400000              18100000            7300000   \n",
       "4267                    700000              14100000            5800000   \n",
       "4268                  11800000              35700000           12000000   \n",
       "\n",
       "      loan_status  \n",
       "0        Approved  \n",
       "1        Rejected  \n",
       "2        Rejected  \n",
       "3        Rejected  \n",
       "4        Rejected  \n",
       "...           ...  \n",
       "4264     Rejected  \n",
       "4265     Approved  \n",
       "4266     Rejected  \n",
       "4267     Approved  \n",
       "4268     Approved  \n",
       "\n",
       "[4269 rows x 13 columns]"
      ]
     },
     "execution_count": 3,
     "metadata": {},
     "output_type": "execute_result"
    }
   ],
   "source": [
    "df"
   ]
  },
  {
   "cell_type": "code",
   "execution_count": 4,
   "id": "2b234c04",
   "metadata": {},
   "outputs": [
    {
     "name": "stdout",
     "output_type": "stream",
     "text": [
      "<class 'pandas.core.frame.DataFrame'>\n",
      "RangeIndex: 4269 entries, 0 to 4268\n",
      "Data columns (total 13 columns):\n",
      " #   Column                     Non-Null Count  Dtype \n",
      "---  ------                     --------------  ----- \n",
      " 0   loan_id                    4269 non-null   int64 \n",
      " 1    no_of_dependents          4269 non-null   int64 \n",
      " 2    education                 4269 non-null   object\n",
      " 3    self_employed             4269 non-null   object\n",
      " 4    income_annum              4269 non-null   int64 \n",
      " 5    loan_amount               4269 non-null   int64 \n",
      " 6    loan_term                 4269 non-null   int64 \n",
      " 7    cibil_score               4269 non-null   int64 \n",
      " 8    residential_assets_value  4269 non-null   int64 \n",
      " 9    commercial_assets_value   4269 non-null   int64 \n",
      " 10   luxury_assets_value       4269 non-null   int64 \n",
      " 11   bank_asset_value          4269 non-null   int64 \n",
      " 12   loan_status               4269 non-null   object\n",
      "dtypes: int64(10), object(3)\n",
      "memory usage: 433.7+ KB\n"
     ]
    }
   ],
   "source": [
    "df.info()"
   ]
  },
  {
   "cell_type": "code",
   "execution_count": 5,
   "id": "a08db4f1",
   "metadata": {},
   "outputs": [
    {
     "data": {
      "text/html": [
       "<div>\n",
       "<style scoped>\n",
       "    .dataframe tbody tr th:only-of-type {\n",
       "        vertical-align: middle;\n",
       "    }\n",
       "\n",
       "    .dataframe tbody tr th {\n",
       "        vertical-align: top;\n",
       "    }\n",
       "\n",
       "    .dataframe thead th {\n",
       "        text-align: right;\n",
       "    }\n",
       "</style>\n",
       "<table border=\"1\" class=\"dataframe\">\n",
       "  <thead>\n",
       "    <tr style=\"text-align: right;\">\n",
       "      <th></th>\n",
       "      <th>loan_id</th>\n",
       "      <th>no_of_dependents</th>\n",
       "      <th>education</th>\n",
       "      <th>self_employed</th>\n",
       "      <th>income_annum</th>\n",
       "      <th>loan_amount</th>\n",
       "      <th>loan_term</th>\n",
       "      <th>cibil_score</th>\n",
       "      <th>residential_assets_value</th>\n",
       "      <th>commercial_assets_value</th>\n",
       "      <th>luxury_assets_value</th>\n",
       "      <th>bank_asset_value</th>\n",
       "      <th>loan_status</th>\n",
       "    </tr>\n",
       "  </thead>\n",
       "  <tbody>\n",
       "    <tr>\n",
       "      <th>0</th>\n",
       "      <td>False</td>\n",
       "      <td>False</td>\n",
       "      <td>False</td>\n",
       "      <td>False</td>\n",
       "      <td>False</td>\n",
       "      <td>False</td>\n",
       "      <td>False</td>\n",
       "      <td>False</td>\n",
       "      <td>False</td>\n",
       "      <td>False</td>\n",
       "      <td>False</td>\n",
       "      <td>False</td>\n",
       "      <td>False</td>\n",
       "    </tr>\n",
       "    <tr>\n",
       "      <th>1</th>\n",
       "      <td>False</td>\n",
       "      <td>False</td>\n",
       "      <td>False</td>\n",
       "      <td>False</td>\n",
       "      <td>False</td>\n",
       "      <td>False</td>\n",
       "      <td>False</td>\n",
       "      <td>False</td>\n",
       "      <td>False</td>\n",
       "      <td>False</td>\n",
       "      <td>False</td>\n",
       "      <td>False</td>\n",
       "      <td>False</td>\n",
       "    </tr>\n",
       "    <tr>\n",
       "      <th>2</th>\n",
       "      <td>False</td>\n",
       "      <td>False</td>\n",
       "      <td>False</td>\n",
       "      <td>False</td>\n",
       "      <td>False</td>\n",
       "      <td>False</td>\n",
       "      <td>False</td>\n",
       "      <td>False</td>\n",
       "      <td>False</td>\n",
       "      <td>False</td>\n",
       "      <td>False</td>\n",
       "      <td>False</td>\n",
       "      <td>False</td>\n",
       "    </tr>\n",
       "    <tr>\n",
       "      <th>3</th>\n",
       "      <td>False</td>\n",
       "      <td>False</td>\n",
       "      <td>False</td>\n",
       "      <td>False</td>\n",
       "      <td>False</td>\n",
       "      <td>False</td>\n",
       "      <td>False</td>\n",
       "      <td>False</td>\n",
       "      <td>False</td>\n",
       "      <td>False</td>\n",
       "      <td>False</td>\n",
       "      <td>False</td>\n",
       "      <td>False</td>\n",
       "    </tr>\n",
       "    <tr>\n",
       "      <th>4</th>\n",
       "      <td>False</td>\n",
       "      <td>False</td>\n",
       "      <td>False</td>\n",
       "      <td>False</td>\n",
       "      <td>False</td>\n",
       "      <td>False</td>\n",
       "      <td>False</td>\n",
       "      <td>False</td>\n",
       "      <td>False</td>\n",
       "      <td>False</td>\n",
       "      <td>False</td>\n",
       "      <td>False</td>\n",
       "      <td>False</td>\n",
       "    </tr>\n",
       "    <tr>\n",
       "      <th>...</th>\n",
       "      <td>...</td>\n",
       "      <td>...</td>\n",
       "      <td>...</td>\n",
       "      <td>...</td>\n",
       "      <td>...</td>\n",
       "      <td>...</td>\n",
       "      <td>...</td>\n",
       "      <td>...</td>\n",
       "      <td>...</td>\n",
       "      <td>...</td>\n",
       "      <td>...</td>\n",
       "      <td>...</td>\n",
       "      <td>...</td>\n",
       "    </tr>\n",
       "    <tr>\n",
       "      <th>4264</th>\n",
       "      <td>False</td>\n",
       "      <td>False</td>\n",
       "      <td>False</td>\n",
       "      <td>False</td>\n",
       "      <td>False</td>\n",
       "      <td>False</td>\n",
       "      <td>False</td>\n",
       "      <td>False</td>\n",
       "      <td>False</td>\n",
       "      <td>False</td>\n",
       "      <td>False</td>\n",
       "      <td>False</td>\n",
       "      <td>False</td>\n",
       "    </tr>\n",
       "    <tr>\n",
       "      <th>4265</th>\n",
       "      <td>False</td>\n",
       "      <td>False</td>\n",
       "      <td>False</td>\n",
       "      <td>False</td>\n",
       "      <td>False</td>\n",
       "      <td>False</td>\n",
       "      <td>False</td>\n",
       "      <td>False</td>\n",
       "      <td>False</td>\n",
       "      <td>False</td>\n",
       "      <td>False</td>\n",
       "      <td>False</td>\n",
       "      <td>False</td>\n",
       "    </tr>\n",
       "    <tr>\n",
       "      <th>4266</th>\n",
       "      <td>False</td>\n",
       "      <td>False</td>\n",
       "      <td>False</td>\n",
       "      <td>False</td>\n",
       "      <td>False</td>\n",
       "      <td>False</td>\n",
       "      <td>False</td>\n",
       "      <td>False</td>\n",
       "      <td>False</td>\n",
       "      <td>False</td>\n",
       "      <td>False</td>\n",
       "      <td>False</td>\n",
       "      <td>False</td>\n",
       "    </tr>\n",
       "    <tr>\n",
       "      <th>4267</th>\n",
       "      <td>False</td>\n",
       "      <td>False</td>\n",
       "      <td>False</td>\n",
       "      <td>False</td>\n",
       "      <td>False</td>\n",
       "      <td>False</td>\n",
       "      <td>False</td>\n",
       "      <td>False</td>\n",
       "      <td>False</td>\n",
       "      <td>False</td>\n",
       "      <td>False</td>\n",
       "      <td>False</td>\n",
       "      <td>False</td>\n",
       "    </tr>\n",
       "    <tr>\n",
       "      <th>4268</th>\n",
       "      <td>False</td>\n",
       "      <td>False</td>\n",
       "      <td>False</td>\n",
       "      <td>False</td>\n",
       "      <td>False</td>\n",
       "      <td>False</td>\n",
       "      <td>False</td>\n",
       "      <td>False</td>\n",
       "      <td>False</td>\n",
       "      <td>False</td>\n",
       "      <td>False</td>\n",
       "      <td>False</td>\n",
       "      <td>False</td>\n",
       "    </tr>\n",
       "  </tbody>\n",
       "</table>\n",
       "<p>4269 rows × 13 columns</p>\n",
       "</div>"
      ],
      "text/plain": [
       "      loan_id   no_of_dependents   education   self_employed   income_annum  \\\n",
       "0       False              False       False           False          False   \n",
       "1       False              False       False           False          False   \n",
       "2       False              False       False           False          False   \n",
       "3       False              False       False           False          False   \n",
       "4       False              False       False           False          False   \n",
       "...       ...                ...         ...             ...            ...   \n",
       "4264    False              False       False           False          False   \n",
       "4265    False              False       False           False          False   \n",
       "4266    False              False       False           False          False   \n",
       "4267    False              False       False           False          False   \n",
       "4268    False              False       False           False          False   \n",
       "\n",
       "       loan_amount   loan_term   cibil_score   residential_assets_value  \\\n",
       "0            False       False         False                      False   \n",
       "1            False       False         False                      False   \n",
       "2            False       False         False                      False   \n",
       "3            False       False         False                      False   \n",
       "4            False       False         False                      False   \n",
       "...            ...         ...           ...                        ...   \n",
       "4264         False       False         False                      False   \n",
       "4265         False       False         False                      False   \n",
       "4266         False       False         False                      False   \n",
       "4267         False       False         False                      False   \n",
       "4268         False       False         False                      False   \n",
       "\n",
       "       commercial_assets_value   luxury_assets_value   bank_asset_value  \\\n",
       "0                        False                 False              False   \n",
       "1                        False                 False              False   \n",
       "2                        False                 False              False   \n",
       "3                        False                 False              False   \n",
       "4                        False                 False              False   \n",
       "...                        ...                   ...                ...   \n",
       "4264                     False                 False              False   \n",
       "4265                     False                 False              False   \n",
       "4266                     False                 False              False   \n",
       "4267                     False                 False              False   \n",
       "4268                     False                 False              False   \n",
       "\n",
       "       loan_status  \n",
       "0            False  \n",
       "1            False  \n",
       "2            False  \n",
       "3            False  \n",
       "4            False  \n",
       "...            ...  \n",
       "4264         False  \n",
       "4265         False  \n",
       "4266         False  \n",
       "4267         False  \n",
       "4268         False  \n",
       "\n",
       "[4269 rows x 13 columns]"
      ]
     },
     "execution_count": 5,
     "metadata": {},
     "output_type": "execute_result"
    }
   ],
   "source": [
    "df.isnull()"
   ]
  },
  {
   "cell_type": "code",
   "execution_count": 6,
   "id": "a351e15a",
   "metadata": {},
   "outputs": [
    {
     "data": {
      "text/html": [
       "<div>\n",
       "<style scoped>\n",
       "    .dataframe tbody tr th:only-of-type {\n",
       "        vertical-align: middle;\n",
       "    }\n",
       "\n",
       "    .dataframe tbody tr th {\n",
       "        vertical-align: top;\n",
       "    }\n",
       "\n",
       "    .dataframe thead th {\n",
       "        text-align: right;\n",
       "    }\n",
       "</style>\n",
       "<table border=\"1\" class=\"dataframe\">\n",
       "  <thead>\n",
       "    <tr style=\"text-align: right;\">\n",
       "      <th></th>\n",
       "      <th>loan_id</th>\n",
       "      <th>no_of_dependents</th>\n",
       "      <th>education</th>\n",
       "      <th>self_employed</th>\n",
       "      <th>income_annum</th>\n",
       "      <th>loan_amount</th>\n",
       "      <th>loan_term</th>\n",
       "      <th>cibil_score</th>\n",
       "      <th>residential_assets_value</th>\n",
       "      <th>commercial_assets_value</th>\n",
       "      <th>luxury_assets_value</th>\n",
       "      <th>bank_asset_value</th>\n",
       "      <th>loan_status</th>\n",
       "    </tr>\n",
       "  </thead>\n",
       "  <tbody>\n",
       "    <tr>\n",
       "      <th>0</th>\n",
       "      <td>1</td>\n",
       "      <td>2</td>\n",
       "      <td>Graduate</td>\n",
       "      <td>No</td>\n",
       "      <td>9600000</td>\n",
       "      <td>29900000</td>\n",
       "      <td>12</td>\n",
       "      <td>778</td>\n",
       "      <td>2400000</td>\n",
       "      <td>17600000</td>\n",
       "      <td>22700000</td>\n",
       "      <td>8000000</td>\n",
       "      <td>Approved</td>\n",
       "    </tr>\n",
       "    <tr>\n",
       "      <th>1</th>\n",
       "      <td>2</td>\n",
       "      <td>0</td>\n",
       "      <td>Not Graduate</td>\n",
       "      <td>Yes</td>\n",
       "      <td>4100000</td>\n",
       "      <td>12200000</td>\n",
       "      <td>8</td>\n",
       "      <td>417</td>\n",
       "      <td>2700000</td>\n",
       "      <td>2200000</td>\n",
       "      <td>8800000</td>\n",
       "      <td>3300000</td>\n",
       "      <td>Rejected</td>\n",
       "    </tr>\n",
       "    <tr>\n",
       "      <th>2</th>\n",
       "      <td>3</td>\n",
       "      <td>3</td>\n",
       "      <td>Graduate</td>\n",
       "      <td>No</td>\n",
       "      <td>9100000</td>\n",
       "      <td>29700000</td>\n",
       "      <td>20</td>\n",
       "      <td>506</td>\n",
       "      <td>7100000</td>\n",
       "      <td>4500000</td>\n",
       "      <td>33300000</td>\n",
       "      <td>12800000</td>\n",
       "      <td>Rejected</td>\n",
       "    </tr>\n",
       "    <tr>\n",
       "      <th>3</th>\n",
       "      <td>4</td>\n",
       "      <td>3</td>\n",
       "      <td>Graduate</td>\n",
       "      <td>No</td>\n",
       "      <td>8200000</td>\n",
       "      <td>30700000</td>\n",
       "      <td>8</td>\n",
       "      <td>467</td>\n",
       "      <td>18200000</td>\n",
       "      <td>3300000</td>\n",
       "      <td>23300000</td>\n",
       "      <td>7900000</td>\n",
       "      <td>Rejected</td>\n",
       "    </tr>\n",
       "    <tr>\n",
       "      <th>4</th>\n",
       "      <td>5</td>\n",
       "      <td>5</td>\n",
       "      <td>Not Graduate</td>\n",
       "      <td>Yes</td>\n",
       "      <td>9800000</td>\n",
       "      <td>24200000</td>\n",
       "      <td>20</td>\n",
       "      <td>382</td>\n",
       "      <td>12400000</td>\n",
       "      <td>8200000</td>\n",
       "      <td>29400000</td>\n",
       "      <td>5000000</td>\n",
       "      <td>Rejected</td>\n",
       "    </tr>\n",
       "    <tr>\n",
       "      <th>...</th>\n",
       "      <td>...</td>\n",
       "      <td>...</td>\n",
       "      <td>...</td>\n",
       "      <td>...</td>\n",
       "      <td>...</td>\n",
       "      <td>...</td>\n",
       "      <td>...</td>\n",
       "      <td>...</td>\n",
       "      <td>...</td>\n",
       "      <td>...</td>\n",
       "      <td>...</td>\n",
       "      <td>...</td>\n",
       "      <td>...</td>\n",
       "    </tr>\n",
       "    <tr>\n",
       "      <th>4264</th>\n",
       "      <td>4265</td>\n",
       "      <td>5</td>\n",
       "      <td>Graduate</td>\n",
       "      <td>Yes</td>\n",
       "      <td>1000000</td>\n",
       "      <td>2300000</td>\n",
       "      <td>12</td>\n",
       "      <td>317</td>\n",
       "      <td>2800000</td>\n",
       "      <td>500000</td>\n",
       "      <td>3300000</td>\n",
       "      <td>800000</td>\n",
       "      <td>Rejected</td>\n",
       "    </tr>\n",
       "    <tr>\n",
       "      <th>4265</th>\n",
       "      <td>4266</td>\n",
       "      <td>0</td>\n",
       "      <td>Not Graduate</td>\n",
       "      <td>Yes</td>\n",
       "      <td>3300000</td>\n",
       "      <td>11300000</td>\n",
       "      <td>20</td>\n",
       "      <td>559</td>\n",
       "      <td>4200000</td>\n",
       "      <td>2900000</td>\n",
       "      <td>11000000</td>\n",
       "      <td>1900000</td>\n",
       "      <td>Approved</td>\n",
       "    </tr>\n",
       "    <tr>\n",
       "      <th>4266</th>\n",
       "      <td>4267</td>\n",
       "      <td>2</td>\n",
       "      <td>Not Graduate</td>\n",
       "      <td>No</td>\n",
       "      <td>6500000</td>\n",
       "      <td>23900000</td>\n",
       "      <td>18</td>\n",
       "      <td>457</td>\n",
       "      <td>1200000</td>\n",
       "      <td>12400000</td>\n",
       "      <td>18100000</td>\n",
       "      <td>7300000</td>\n",
       "      <td>Rejected</td>\n",
       "    </tr>\n",
       "    <tr>\n",
       "      <th>4267</th>\n",
       "      <td>4268</td>\n",
       "      <td>1</td>\n",
       "      <td>Not Graduate</td>\n",
       "      <td>No</td>\n",
       "      <td>4100000</td>\n",
       "      <td>12800000</td>\n",
       "      <td>8</td>\n",
       "      <td>780</td>\n",
       "      <td>8200000</td>\n",
       "      <td>700000</td>\n",
       "      <td>14100000</td>\n",
       "      <td>5800000</td>\n",
       "      <td>Approved</td>\n",
       "    </tr>\n",
       "    <tr>\n",
       "      <th>4268</th>\n",
       "      <td>4269</td>\n",
       "      <td>1</td>\n",
       "      <td>Graduate</td>\n",
       "      <td>No</td>\n",
       "      <td>9200000</td>\n",
       "      <td>29700000</td>\n",
       "      <td>10</td>\n",
       "      <td>607</td>\n",
       "      <td>17800000</td>\n",
       "      <td>11800000</td>\n",
       "      <td>35700000</td>\n",
       "      <td>12000000</td>\n",
       "      <td>Approved</td>\n",
       "    </tr>\n",
       "  </tbody>\n",
       "</table>\n",
       "<p>4269 rows × 13 columns</p>\n",
       "</div>"
      ],
      "text/plain": [
       "      loan_id   no_of_dependents      education  self_employed   income_annum  \\\n",
       "0           1                  2       Graduate             No        9600000   \n",
       "1           2                  0   Not Graduate            Yes        4100000   \n",
       "2           3                  3       Graduate             No        9100000   \n",
       "3           4                  3       Graduate             No        8200000   \n",
       "4           5                  5   Not Graduate            Yes        9800000   \n",
       "...       ...                ...            ...            ...            ...   \n",
       "4264     4265                  5       Graduate            Yes        1000000   \n",
       "4265     4266                  0   Not Graduate            Yes        3300000   \n",
       "4266     4267                  2   Not Graduate             No        6500000   \n",
       "4267     4268                  1   Not Graduate             No        4100000   \n",
       "4268     4269                  1       Graduate             No        9200000   \n",
       "\n",
       "       loan_amount   loan_term   cibil_score   residential_assets_value  \\\n",
       "0         29900000          12           778                    2400000   \n",
       "1         12200000           8           417                    2700000   \n",
       "2         29700000          20           506                    7100000   \n",
       "3         30700000           8           467                   18200000   \n",
       "4         24200000          20           382                   12400000   \n",
       "...            ...         ...           ...                        ...   \n",
       "4264       2300000          12           317                    2800000   \n",
       "4265      11300000          20           559                    4200000   \n",
       "4266      23900000          18           457                    1200000   \n",
       "4267      12800000           8           780                    8200000   \n",
       "4268      29700000          10           607                   17800000   \n",
       "\n",
       "       commercial_assets_value   luxury_assets_value   bank_asset_value  \\\n",
       "0                     17600000              22700000            8000000   \n",
       "1                      2200000               8800000            3300000   \n",
       "2                      4500000              33300000           12800000   \n",
       "3                      3300000              23300000            7900000   \n",
       "4                      8200000              29400000            5000000   \n",
       "...                        ...                   ...                ...   \n",
       "4264                    500000               3300000             800000   \n",
       "4265                   2900000              11000000            1900000   \n",
       "4266                  12400000              18100000            7300000   \n",
       "4267                    700000              14100000            5800000   \n",
       "4268                  11800000              35700000           12000000   \n",
       "\n",
       "      loan_status  \n",
       "0        Approved  \n",
       "1        Rejected  \n",
       "2        Rejected  \n",
       "3        Rejected  \n",
       "4        Rejected  \n",
       "...           ...  \n",
       "4264     Rejected  \n",
       "4265     Approved  \n",
       "4266     Rejected  \n",
       "4267     Approved  \n",
       "4268     Approved  \n",
       "\n",
       "[4269 rows x 13 columns]"
      ]
     },
     "execution_count": 6,
     "metadata": {},
     "output_type": "execute_result"
    }
   ],
   "source": [
    "df"
   ]
  },
  {
   "cell_type": "code",
   "execution_count": 7,
   "id": "c79c6313",
   "metadata": {},
   "outputs": [],
   "source": [
    "df.drop(columns=['loan_id',' no_of_dependents',' self_employed',' income_annum',' loan_term',' residential_assets_value',' commercial_assets_value',' luxury_assets_value',' bank_asset_value'],inplace=True,axis=1)"
   ]
  },
  {
   "cell_type": "code",
   "execution_count": 8,
   "id": "28ce07bb",
   "metadata": {},
   "outputs": [],
   "source": [
    "df.drop(columns=(' education'),inplace=True)"
   ]
  },
  {
   "cell_type": "code",
   "execution_count": 9,
   "id": "938c056d",
   "metadata": {},
   "outputs": [
    {
     "data": {
      "text/plain": [
       " Approved    2656\n",
       " Rejected    1613\n",
       "Name:  loan_status, dtype: int64"
      ]
     },
     "execution_count": 9,
     "metadata": {},
     "output_type": "execute_result"
    }
   ],
   "source": [
    "df[' loan_status'].value_counts()"
   ]
  },
  {
   "cell_type": "code",
   "execution_count": 10,
   "id": "7268f283",
   "metadata": {},
   "outputs": [
    {
     "data": {
      "text/plain": [
       "599.9360505973295"
      ]
     },
     "execution_count": 10,
     "metadata": {},
     "output_type": "execute_result"
    }
   ],
   "source": [
    "df[' cibil_score'].mean()"
   ]
  },
  {
   "cell_type": "code",
   "execution_count": 11,
   "id": "f63d3df4",
   "metadata": {},
   "outputs": [
    {
     "data": {
      "text/html": [
       "<div>\n",
       "<style scoped>\n",
       "    .dataframe tbody tr th:only-of-type {\n",
       "        vertical-align: middle;\n",
       "    }\n",
       "\n",
       "    .dataframe tbody tr th {\n",
       "        vertical-align: top;\n",
       "    }\n",
       "\n",
       "    .dataframe thead th {\n",
       "        text-align: right;\n",
       "    }\n",
       "</style>\n",
       "<table border=\"1\" class=\"dataframe\">\n",
       "  <thead>\n",
       "    <tr style=\"text-align: right;\">\n",
       "      <th></th>\n",
       "      <th>loan_amount</th>\n",
       "      <th>cibil_score</th>\n",
       "    </tr>\n",
       "  </thead>\n",
       "  <tbody>\n",
       "    <tr>\n",
       "      <th>count</th>\n",
       "      <td>4.269000e+03</td>\n",
       "      <td>4269.000000</td>\n",
       "    </tr>\n",
       "    <tr>\n",
       "      <th>mean</th>\n",
       "      <td>1.513345e+07</td>\n",
       "      <td>599.936051</td>\n",
       "    </tr>\n",
       "    <tr>\n",
       "      <th>std</th>\n",
       "      <td>9.043363e+06</td>\n",
       "      <td>172.430401</td>\n",
       "    </tr>\n",
       "    <tr>\n",
       "      <th>min</th>\n",
       "      <td>3.000000e+05</td>\n",
       "      <td>300.000000</td>\n",
       "    </tr>\n",
       "    <tr>\n",
       "      <th>25%</th>\n",
       "      <td>7.700000e+06</td>\n",
       "      <td>453.000000</td>\n",
       "    </tr>\n",
       "    <tr>\n",
       "      <th>50%</th>\n",
       "      <td>1.450000e+07</td>\n",
       "      <td>600.000000</td>\n",
       "    </tr>\n",
       "    <tr>\n",
       "      <th>75%</th>\n",
       "      <td>2.150000e+07</td>\n",
       "      <td>748.000000</td>\n",
       "    </tr>\n",
       "    <tr>\n",
       "      <th>max</th>\n",
       "      <td>3.950000e+07</td>\n",
       "      <td>900.000000</td>\n",
       "    </tr>\n",
       "  </tbody>\n",
       "</table>\n",
       "</div>"
      ],
      "text/plain": [
       "        loan_amount   cibil_score\n",
       "count  4.269000e+03   4269.000000\n",
       "mean   1.513345e+07    599.936051\n",
       "std    9.043363e+06    172.430401\n",
       "min    3.000000e+05    300.000000\n",
       "25%    7.700000e+06    453.000000\n",
       "50%    1.450000e+07    600.000000\n",
       "75%    2.150000e+07    748.000000\n",
       "max    3.950000e+07    900.000000"
      ]
     },
     "execution_count": 11,
     "metadata": {},
     "output_type": "execute_result"
    }
   ],
   "source": [
    "df.describe()"
   ]
  },
  {
   "cell_type": "code",
   "execution_count": 12,
   "id": "0f4f2d9e",
   "metadata": {},
   "outputs": [
    {
     "data": {
      "text/html": [
       "<div>\n",
       "<style scoped>\n",
       "    .dataframe tbody tr th:only-of-type {\n",
       "        vertical-align: middle;\n",
       "    }\n",
       "\n",
       "    .dataframe tbody tr th {\n",
       "        vertical-align: top;\n",
       "    }\n",
       "\n",
       "    .dataframe thead th {\n",
       "        text-align: right;\n",
       "    }\n",
       "</style>\n",
       "<table border=\"1\" class=\"dataframe\">\n",
       "  <thead>\n",
       "    <tr style=\"text-align: right;\">\n",
       "      <th></th>\n",
       "      <th>loan_amount</th>\n",
       "      <th>cibil_score</th>\n",
       "      <th>loan_status</th>\n",
       "    </tr>\n",
       "  </thead>\n",
       "  <tbody>\n",
       "    <tr>\n",
       "      <th>0</th>\n",
       "      <td>29900000</td>\n",
       "      <td>778</td>\n",
       "      <td>Approved</td>\n",
       "    </tr>\n",
       "    <tr>\n",
       "      <th>1</th>\n",
       "      <td>12200000</td>\n",
       "      <td>417</td>\n",
       "      <td>Rejected</td>\n",
       "    </tr>\n",
       "    <tr>\n",
       "      <th>2</th>\n",
       "      <td>29700000</td>\n",
       "      <td>506</td>\n",
       "      <td>Rejected</td>\n",
       "    </tr>\n",
       "    <tr>\n",
       "      <th>3</th>\n",
       "      <td>30700000</td>\n",
       "      <td>467</td>\n",
       "      <td>Rejected</td>\n",
       "    </tr>\n",
       "    <tr>\n",
       "      <th>4</th>\n",
       "      <td>24200000</td>\n",
       "      <td>382</td>\n",
       "      <td>Rejected</td>\n",
       "    </tr>\n",
       "    <tr>\n",
       "      <th>...</th>\n",
       "      <td>...</td>\n",
       "      <td>...</td>\n",
       "      <td>...</td>\n",
       "    </tr>\n",
       "    <tr>\n",
       "      <th>4264</th>\n",
       "      <td>2300000</td>\n",
       "      <td>317</td>\n",
       "      <td>Rejected</td>\n",
       "    </tr>\n",
       "    <tr>\n",
       "      <th>4265</th>\n",
       "      <td>11300000</td>\n",
       "      <td>559</td>\n",
       "      <td>Approved</td>\n",
       "    </tr>\n",
       "    <tr>\n",
       "      <th>4266</th>\n",
       "      <td>23900000</td>\n",
       "      <td>457</td>\n",
       "      <td>Rejected</td>\n",
       "    </tr>\n",
       "    <tr>\n",
       "      <th>4267</th>\n",
       "      <td>12800000</td>\n",
       "      <td>780</td>\n",
       "      <td>Approved</td>\n",
       "    </tr>\n",
       "    <tr>\n",
       "      <th>4268</th>\n",
       "      <td>29700000</td>\n",
       "      <td>607</td>\n",
       "      <td>Approved</td>\n",
       "    </tr>\n",
       "  </tbody>\n",
       "</table>\n",
       "<p>4269 rows × 3 columns</p>\n",
       "</div>"
      ],
      "text/plain": [
       "       loan_amount   cibil_score  loan_status\n",
       "0         29900000           778     Approved\n",
       "1         12200000           417     Rejected\n",
       "2         29700000           506     Rejected\n",
       "3         30700000           467     Rejected\n",
       "4         24200000           382     Rejected\n",
       "...            ...           ...          ...\n",
       "4264       2300000           317     Rejected\n",
       "4265      11300000           559     Approved\n",
       "4266      23900000           457     Rejected\n",
       "4267      12800000           780     Approved\n",
       "4268      29700000           607     Approved\n",
       "\n",
       "[4269 rows x 3 columns]"
      ]
     },
     "execution_count": 12,
     "metadata": {},
     "output_type": "execute_result"
    }
   ],
   "source": [
    "df"
   ]
  },
  {
   "cell_type": "code",
   "execution_count": 13,
   "id": "75814ac6",
   "metadata": {},
   "outputs": [
    {
     "data": {
      "text/plain": [
       "<Axes: xlabel=' loan_status', ylabel='count'>"
      ]
     },
     "execution_count": 13,
     "metadata": {},
     "output_type": "execute_result"
    },
    {
     "data": {
      "image/png": "[encoded data removed]",
      "text/plain": [
       "<Figure size 640x480 with 1 Axes>"
      ]
     },
     "metadata": {},
     "output_type": "display_data"
    }
   ],
   "source": [
    "sns.countplot(x=' loan_status', data= df)"
   ]
  },
  {
   "cell_type": "code",
   "execution_count": 14,
   "id": "faab67e2",
   "metadata": {},
   "outputs": [
    {
     "data": {
      "text/plain": [
       "<Axes: xlabel=' cibil_score', ylabel='Count'>"
      ]
     },
     "execution_count": 14,
     "metadata": {},
     "output_type": "execute_result"
    },
    {
     "data": {
      "image/png": "[encoded data removed]",
      "text/plain": [
       "<Figure size 640x480 with 1 Axes>"
      ]
     },
     "metadata": {},
     "output_type": "display_data"
    }
   ],
   "source": [
    "sns.histplot(x=' cibil_score', data= df)"
   ]
  },
  {
   "cell_type": "code",
   "execution_count": 38,
   "id": "eb060cf4",
   "metadata": {},
   "outputs": [
    {
     "name": "stderr",
     "output_type": "stream",
     "text": [
      "C:\\Users\\saisr\\AppData\\Local\\Temp\\ipykernel_25980\\483839832.py:1: FutureWarning: The default value of numeric_only in DataFrame.corr is deprecated. In a future version, it will default to False. Select only valid columns or specify the value of numeric_only to silence this warning.\n",
      "  corr_matrix = df.corr()\n"
     ]
    },
    {
     "data": {
      "image/png": "[encoded data removed]",
      "text/plain": [
       "<Figure size 1200x1000 with 2 Axes>"
      ]
     },
     "metadata": {},
     "output_type": "display_data"
    }
   ],
   "source": [
    "corr_matrix = df.corr()\n",
    "plt.figure(figsize=(12, 10))  # Adjust the figure size as needed\n",
    "sns.heatmap(corr_matrix, annot=True, cmap='coolwarm', fmt='.2f', linewidths=0.5)\n",
    "plt.title('Feature Correlation Heatmap')\n",
    "plt.show()\n",
    "\n"
   ]
  },
  {
   "cell_type": "code",
   "execution_count": 16,
   "id": "db0202f4",
   "metadata": {},
   "outputs": [
    {
     "data": {
      "image/png": "[encoded data removed]",
      "text/plain": [
       "<Figure size 1200x800 with 1 Axes>"
      ]
     },
     "metadata": {},
     "output_type": "display_data"
    }
   ],
   "source": [
    "plt.figure(figsize=(12, 8))\n",
    "plt.subplot(2, 2, 1)\n",
    "sns.boxplot(y=df[' cibil_score'])\n",
    "plt.title(' cibil_score')\n",
    "plt.tight_layout()\n",
    "plt.show()"
   ]
  },
  {
   "cell_type": "code",
   "execution_count": 17,
   "id": "52226a4c",
   "metadata": {},
   "outputs": [],
   "source": [
    "def model_evaluate(model,X_test):\n",
    "    y_pred = model.predict(X_test)\n",
    "    print(classification_report(y_test, y_pred))\n",
    "    cf_matrix = confusion_matrix(y_test, y_pred)\n",
    "    cm = confusion_matrix(y_test, y_pred)\n",
    "\n",
    "    cm_df = pd.DataFrame(cm,\n",
    "                     index = ['APPROVAL','REJECTED'], \n",
    "                     columns = ['APPROVAL','REJECTED'])\n",
    "\n",
    "    #Plotting the confusion matrix\n",
    "    plt.figure(figsize=(5,4))\n",
    "    sns.heatmap(cm_df, annot=True, cmap=\"Oranges\",linecolor=\"gray\")\n",
    "    plt.title('Confusion Matrix')\n",
    "    plt.ylabel('Actual Values')\n",
    "    plt.xlabel('Predicted Values')\n",
    "    plt.show()\n",
    " "
   ]
  },
  {
   "cell_type": "code",
   "execution_count": 18,
   "id": "4db599e2",
   "metadata": {},
   "outputs": [],
   "source": [
    "from sklearn.model_selection import train_test_split\n",
    "from sklearn.preprocessing import StandardScaler\n",
    "from sklearn.linear_model import LogisticRegression\n",
    "from sklearn.metrics import accuracy_score, classification_report, confusion_matrix"
   ]
  },
  {
   "cell_type": "code",
   "execution_count": 19,
   "id": "3721f7a5",
   "metadata": {},
   "outputs": [],
   "source": [
    "X = df[[' cibil_score',' loan_amount']]\n",
    "y=df[' loan_status']"
   ]
  },
  {
   "cell_type": "code",
   "execution_count": 20,
   "id": "c58308ea",
   "metadata": {},
   "outputs": [],
   "source": [
    "x_train,x_test,y_train,y_test=train_test_split(X, y, test_size=0.2, random_state=42)"
   ]
  },
  {
   "cell_type": "code",
   "execution_count": 21,
   "id": "36ea0256",
   "metadata": {},
   "outputs": [],
   "source": [
    "scaler = StandardScaler()\n",
    "X_train = scaler.fit_transform(x_train)\n",
    "X_test = scaler.transform(x_test)"
   ]
  },
  {
   "cell_type": "code",
   "execution_count": 22,
   "id": "4f1e9b74",
   "metadata": {},
   "outputs": [],
   "source": [
    "lr=LogisticRegression()"
   ]
  },
  {
   "cell_type": "code",
   "execution_count": 23,
   "id": "78527d97",
   "metadata": {
    "scrolled": true
   },
   "outputs": [
    {
     "data": {
      "text/html": [
       "<style>#sk-container-id-1 {color: black;}#sk-container-id-1 pre{padding: 0;}#sk-container-id-1 div.sk-toggleable {background-color: white;}#sk-container-id-1 label.sk-toggleable__label {cursor: pointer;display: block;width: 100%;margin-bottom: 0;padding: 0.3em;box-sizing: border-box;text-align: center;}#sk-container-id-1 label.sk-toggleable__label-arrow:before {content: \"▸\";float: left;margin-right: 0.25em;color: #696969;}#sk-container-id-1 label.sk-toggleable__label-arrow:hover:before {color: black;}#sk-container-id-1 div.sk-estimator:hover label.sk-toggleable__label-arrow:before {color: black;}#sk-container-id-1 div.sk-toggleable__content {max-height: 0;max-width: 0;overflow: hidden;text-align: left;background-color: #f0f8ff;}#sk-container-id-1 div.sk-toggleable__content pre {margin: 0.2em;color: black;border-radius: 0.25em;background-color: #f0f8ff;}#sk-container-id-1 input.sk-toggleable__control:checked~div.sk-toggleable__content {max-height: 200px;max-width: 100%;overflow: auto;}#sk-container-id-1 input.sk-toggleable__control:checked~label.sk-toggleable__label-arrow:before {content: \"▾\";}#sk-container-id-1 div.sk-estimator input.sk-toggleable__control:checked~label.sk-toggleable__label {background-color: #d4ebff;}#sk-container-id-1 div.sk-label input.sk-toggleable__control:checked~label.sk-toggleable__label {background-color: #d4ebff;}#sk-container-id-1 input.sk-hidden--visually {border: 0;clip: rect(1px 1px 1px 1px);clip: rect(1px, 1px, 1px, 1px);height: 1px;margin: -1px;overflow: hidden;padding: 0;position: absolute;width: 1px;}#sk-container-id-1 div.sk-estimator {font-family: monospace;background-color: #f0f8ff;border: 1px dotted black;border-radius: 0.25em;box-sizing: border-box;margin-bottom: 0.5em;}#sk-container-id-1 div.sk-estimator:hover {background-color: #d4ebff;}#sk-container-id-1 div.sk-parallel-item::after {content: \"\";width: 100%;border-bottom: 1px solid gray;flex-grow: 1;}#sk-container-id-1 div.sk-label:hover label.sk-toggleable__label {background-color: #d4ebff;}#sk-container-id-1 div.sk-serial::before {content: \"\";position: absolute;border-left: 1px solid gray;box-sizing: border-box;top: 0;bottom: 0;left: 50%;z-index: 0;}#sk-container-id-1 div.sk-serial {display: flex;flex-direction: column;align-items: center;background-color: white;padding-right: 0.2em;padding-left: 0.2em;position: relative;}#sk-container-id-1 div.sk-item {position: relative;z-index: 1;}#sk-container-id-1 div.sk-parallel {display: flex;align-items: stretch;justify-content: center;background-color: white;position: relative;}#sk-container-id-1 div.sk-item::before, #sk-container-id-1 div.sk-parallel-item::before {content: \"\";position: absolute;border-left: 1px solid gray;box-sizing: border-box;top: 0;bottom: 0;left: 50%;z-index: -1;}#sk-container-id-1 div.sk-parallel-item {display: flex;flex-direction: column;z-index: 1;position: relative;background-color: white;}#sk-container-id-1 div.sk-parallel-item:first-child::after {align-self: flex-end;width: 50%;}#sk-container-id-1 div.sk-parallel-item:last-child::after {align-self: flex-start;width: 50%;}#sk-container-id-1 div.sk-parallel-item:only-child::after {width: 0;}#sk-container-id-1 div.sk-dashed-wrapped {border: 1px dashed gray;margin: 0 0.4em 0.5em 0.4em;box-sizing: border-box;padding-bottom: 0.4em;background-color: white;}#sk-container-id-1 div.sk-label label {font-family: monospace;font-weight: bold;display: inline-block;line-height: 1.2em;}#sk-container-id-1 div.sk-label-container {text-align: center;}#sk-container-id-1 div.sk-container {/* jupyter's `normalize.less` sets `[hidden] { display: none; }` but bootstrap.min.css set `[hidden] { display: none !important; }` so we also need the `!important` here to be able to override the default hidden behavior on the sphinx rendered scikit-learn.org. See: https://github.com/scikit-learn/scikit-learn/issues/21755 */display: inline-block !important;position: relative;}#sk-container-id-1 div.sk-text-repr-fallback {display: none;}</style><div id=\"sk-container-id-1\" class=\"sk-top-container\"><div class=\"sk-text-repr-fallback\"><pre>LogisticRegression()</pre><b>In a Jupyter environment, please rerun this cell to show the HTML representation or trust the notebook. <br />On GitHub, the HTML representation is unable to render, please try loading this page with nbviewer.org.</b></div><div class=\"sk-container\" hidden><div class=\"sk-item\"><div class=\"sk-estimator sk-toggleable\"><input class=\"sk-toggleable__control sk-hidden--visually\" id=\"sk-estimator-id-1\" type=\"checkbox\" checked><label for=\"sk-estimator-id-1\" class=\"sk-toggleable__label sk-toggleable__label-arrow\">LogisticRegression</label><div class=\"sk-toggleable__content\"><pre>LogisticRegression()</pre></div></div></div></div></div>"
      ],
      "text/plain": [
       "LogisticRegression()"
      ]
     },
     "execution_count": 23,
     "metadata": {},
     "output_type": "execute_result"
    }
   ],
   "source": [
    "lr.fit(x_train,y_train)\n"
   ]
  },
  {
   "cell_type": "code",
   "execution_count": 24,
   "id": "6c4354bb",
   "metadata": {},
   "outputs": [
    {
     "name": "stdout",
     "output_type": "stream",
     "text": [
      "your loan has been successfully Approved\n"
     ]
    },
    {
     "name": "stderr",
     "output_type": "stream",
     "text": [
      "C:\\Users\\saisr\\anaconda3\\lib\\site-packages\\sklearn\\base.py:464: UserWarning: X does not have valid feature names, but LogisticRegression was fitted with feature names\n",
      "  warnings.warn(\n"
     ]
    }
   ],
   "source": [
    "new_applicant = [[12200000,417]] \n",
    "x=lr.predict(new_applicant)\n",
    "if x==' Approved':\n",
    "    print(\"your loan has been successfully Approved\")\n",
    "else:\n",
    "    print(\"sorry,your loan has been rejected\")"
   ]
  },
  {
   "cell_type": "code",
   "execution_count": 25,
   "id": "7293d961",
   "metadata": {},
   "outputs": [
    {
     "name": "stdout",
     "output_type": "stream",
     "text": [
      "              precision    recall  f1-score   support\n",
      "\n",
      "    Approved       0.69      0.94      0.79       536\n",
      "    Rejected       0.74      0.27      0.40       318\n",
      "\n",
      "    accuracy                           0.69       854\n",
      "   macro avg       0.71      0.61      0.60       854\n",
      "weighted avg       0.71      0.69      0.65       854\n",
      "\n"
     ]
    },
    {
     "data": {
      "image/png": "[encoded data removed]",
      "text/plain": [
       "<Figure size 500x400 with 2 Axes>"
      ]
     },
     "metadata": {},
     "output_type": "display_data"
    }
   ],
   "source": [
    "model_evaluate(lr,x_test)"
   ]
  },
  {
   "cell_type": "code",
   "execution_count": 26,
   "id": "53d58f1c",
   "metadata": {},
   "outputs": [],
   "source": [
    "from sklearn.neighbors import KNeighborsClassifier"
   ]
  },
  {
   "cell_type": "code",
   "execution_count": 27,
   "id": "19b2478e",
   "metadata": {},
   "outputs": [],
   "source": [
    "k = 3  \n",
    "knn = KNeighborsClassifier(n_neighbors=k)"
   ]
  },
  {
   "cell_type": "code",
   "execution_count": 28,
   "id": "0382ff65",
   "metadata": {},
   "outputs": [
    {
     "data": {
      "text/html": [
       "<style>#sk-container-id-2 {color: black;}#sk-container-id-2 pre{padding: 0;}#sk-container-id-2 div.sk-toggleable {background-color: white;}#sk-container-id-2 label.sk-toggleable__label {cursor: pointer;display: block;width: 100%;margin-bottom: 0;padding: 0.3em;box-sizing: border-box;text-align: center;}#sk-container-id-2 label.sk-toggleable__label-arrow:before {content: \"▸\";float: left;margin-right: 0.25em;color: #696969;}#sk-container-id-2 label.sk-toggleable__label-arrow:hover:before {color: black;}#sk-container-id-2 div.sk-estimator:hover label.sk-toggleable__label-arrow:before {color: black;}#sk-container-id-2 div.sk-toggleable__content {max-height: 0;max-width: 0;overflow: hidden;text-align: left;background-color: #f0f8ff;}#sk-container-id-2 div.sk-toggleable__content pre {margin: 0.2em;color: black;border-radius: 0.25em;background-color: #f0f8ff;}#sk-container-id-2 input.sk-toggleable__control:checked~div.sk-toggleable__content {max-height: 200px;max-width: 100%;overflow: auto;}#sk-container-id-2 input.sk-toggleable__control:checked~label.sk-toggleable__label-arrow:before {content: \"▾\";}#sk-container-id-2 div.sk-estimator input.sk-toggleable__control:checked~label.sk-toggleable__label {background-color: #d4ebff;}#sk-container-id-2 div.sk-label input.sk-toggleable__control:checked~label.sk-toggleable__label {background-color: #d4ebff;}#sk-container-id-2 input.sk-hidden--visually {border: 0;clip: rect(1px 1px 1px 1px);clip: rect(1px, 1px, 1px, 1px);height: 1px;margin: -1px;overflow: hidden;padding: 0;position: absolute;width: 1px;}#sk-container-id-2 div.sk-estimator {font-family: monospace;background-color: #f0f8ff;border: 1px dotted black;border-radius: 0.25em;box-sizing: border-box;margin-bottom: 0.5em;}#sk-container-id-2 div.sk-estimator:hover {background-color: #d4ebff;}#sk-container-id-2 div.sk-parallel-item::after {content: \"\";width: 100%;border-bottom: 1px solid gray;flex-grow: 1;}#sk-container-id-2 div.sk-label:hover label.sk-toggleable__label {background-color: #d4ebff;}#sk-container-id-2 div.sk-serial::before {content: \"\";position: absolute;border-left: 1px solid gray;box-sizing: border-box;top: 0;bottom: 0;left: 50%;z-index: 0;}#sk-container-id-2 div.sk-serial {display: flex;flex-direction: column;align-items: center;background-color: white;padding-right: 0.2em;padding-left: 0.2em;position: relative;}#sk-container-id-2 div.sk-item {position: relative;z-index: 1;}#sk-container-id-2 div.sk-parallel {display: flex;align-items: stretch;justify-content: center;background-color: white;position: relative;}#sk-container-id-2 div.sk-item::before, #sk-container-id-2 div.sk-parallel-item::before {content: \"\";position: absolute;border-left: 1px solid gray;box-sizing: border-box;top: 0;bottom: 0;left: 50%;z-index: -1;}#sk-container-id-2 div.sk-parallel-item {display: flex;flex-direction: column;z-index: 1;position: relative;background-color: white;}#sk-container-id-2 div.sk-parallel-item:first-child::after {align-self: flex-end;width: 50%;}#sk-container-id-2 div.sk-parallel-item:last-child::after {align-self: flex-start;width: 50%;}#sk-container-id-2 div.sk-parallel-item:only-child::after {width: 0;}#sk-container-id-2 div.sk-dashed-wrapped {border: 1px dashed gray;margin: 0 0.4em 0.5em 0.4em;box-sizing: border-box;padding-bottom: 0.4em;background-color: white;}#sk-container-id-2 div.sk-label label {font-family: monospace;font-weight: bold;display: inline-block;line-height: 1.2em;}#sk-container-id-2 div.sk-label-container {text-align: center;}#sk-container-id-2 div.sk-container {/* jupyter's `normalize.less` sets `[hidden] { display: none; }` but bootstrap.min.css set `[hidden] { display: none !important; }` so we also need the `!important` here to be able to override the default hidden behavior on the sphinx rendered scikit-learn.org. See: https://github.com/scikit-learn/scikit-learn/issues/21755 */display: inline-block !important;position: relative;}#sk-container-id-2 div.sk-text-repr-fallback {display: none;}</style><div id=\"sk-container-id-2\" class=\"sk-top-container\"><div class=\"sk-text-repr-fallback\"><pre>KNeighborsClassifier(n_neighbors=3)</pre><b>In a Jupyter environment, please rerun this cell to show the HTML representation or trust the notebook. <br />On GitHub, the HTML representation is unable to render, please try loading this page with nbviewer.org.</b></div><div class=\"sk-container\" hidden><div class=\"sk-item\"><div class=\"sk-estimator sk-toggleable\"><input class=\"sk-toggleable__control sk-hidden--visually\" id=\"sk-estimator-id-2\" type=\"checkbox\" checked><label for=\"sk-estimator-id-2\" class=\"sk-toggleable__label sk-toggleable__label-arrow\">KNeighborsClassifier</label><div class=\"sk-toggleable__content\"><pre>KNeighborsClassifier(n_neighbors=3)</pre></div></div></div></div></div>"
      ],
      "text/plain": [
       "KNeighborsClassifier(n_neighbors=3)"
      ]
     },
     "execution_count": 28,
     "metadata": {},
     "output_type": "execute_result"
    }
   ],
   "source": [
    "knn.fit(x_train,y_train)"
   ]
  },
  {
   "cell_type": "code",
   "execution_count": 29,
   "id": "2bbf070a",
   "metadata": {},
   "outputs": [
    {
     "name": "stdout",
     "output_type": "stream",
     "text": [
      "Accuracy: 0.85\n"
     ]
    }
   ],
   "source": [
    "y_pred = knn.predict(x_test)\n",
    "accuracy = accuracy_score(y_test, y_pred)\n",
    "print(f'Accuracy: {accuracy:.2f}')"
   ]
  },
  {
   "cell_type": "code",
   "execution_count": 30,
   "id": "2abb8dd2",
   "metadata": {},
   "outputs": [
    {
     "data": {
      "text/plain": [
       "array([' Rejected', ' Approved', ' Rejected', ' Approved', ' Approved',\n",
       "       ' Approved', ' Approved', ' Rejected', ' Approved', ' Rejected',\n",
       "       ' Rejected', ' Approved', ' Approved', ' Rejected', ' Rejected',\n",
       "       ' Approved', ' Approved', ' Rejected', ' Rejected', ' Rejected',\n",
       "       ' Approved', ' Rejected', ' Approved', ' Rejected', ' Approved',\n",
       "       ' Approved', ' Approved', ' Approved', ' Approved', ' Approved',\n",
       "       ' Rejected', ' Rejected', ' Rejected', ' Approved', ' Rejected',\n",
       "       ' Rejected', ' Approved', ' Approved', ' Approved', ' Rejected',\n",
       "       ' Rejected', ' Approved', ' Approved', ' Approved', ' Rejected',\n",
       "       ' Approved', ' Approved', ' Approved', ' Approved', ' Rejected',\n",
       "       ' Approved', ' Rejected', ' Rejected', ' Approved', ' Approved',\n",
       "       ' Approved', ' Approved', ' Approved', ' Rejected', ' Approved',\n",
       "       ' Approved', ' Approved', ' Rejected', ' Rejected', ' Rejected',\n",
       "       ' Approved', ' Approved', ' Approved', ' Approved', ' Approved',\n",
       "       ' Approved', ' Approved', ' Approved', ' Approved', ' Rejected',\n",
       "       ' Approved', ' Rejected', ' Approved', ' Approved', ' Approved',\n",
       "       ' Rejected', ' Rejected', ' Rejected', ' Approved', ' Rejected',\n",
       "       ' Rejected', ' Approved', ' Approved', ' Rejected', ' Rejected',\n",
       "       ' Rejected', ' Rejected', ' Approved', ' Rejected', ' Rejected',\n",
       "       ' Approved', ' Approved', ' Approved', ' Approved', ' Rejected',\n",
       "       ' Approved', ' Rejected', ' Approved', ' Rejected', ' Rejected',\n",
       "       ' Approved', ' Rejected', ' Approved', ' Approved', ' Approved',\n",
       "       ' Approved', ' Rejected', ' Rejected', ' Rejected', ' Rejected',\n",
       "       ' Rejected', ' Rejected', ' Rejected', ' Approved', ' Approved',\n",
       "       ' Rejected', ' Rejected', ' Rejected', ' Rejected', ' Approved',\n",
       "       ' Approved', ' Approved', ' Approved', ' Rejected', ' Approved',\n",
       "       ' Approved', ' Approved', ' Approved', ' Rejected', ' Rejected',\n",
       "       ' Approved', ' Approved', ' Rejected', ' Approved', ' Approved',\n",
       "       ' Approved', ' Approved', ' Approved', ' Rejected', ' Approved',\n",
       "       ' Approved', ' Approved', ' Approved', ' Approved', ' Approved',\n",
       "       ' Approved', ' Approved', ' Rejected', ' Rejected', ' Rejected',\n",
       "       ' Approved', ' Approved', ' Rejected', ' Rejected', ' Approved',\n",
       "       ' Rejected', ' Approved', ' Approved', ' Approved', ' Approved',\n",
       "       ' Approved', ' Approved', ' Approved', ' Rejected', ' Approved',\n",
       "       ' Approved', ' Rejected', ' Rejected', ' Approved', ' Rejected',\n",
       "       ' Approved', ' Approved', ' Rejected', ' Approved', ' Rejected',\n",
       "       ' Rejected', ' Rejected', ' Approved', ' Rejected', ' Approved',\n",
       "       ' Approved', ' Approved', ' Rejected', ' Rejected', ' Approved',\n",
       "       ' Approved', ' Rejected', ' Rejected', ' Rejected', ' Approved',\n",
       "       ' Approved', ' Approved', ' Approved', ' Approved', ' Approved',\n",
       "       ' Rejected', ' Rejected', ' Approved', ' Rejected', ' Rejected',\n",
       "       ' Rejected', ' Approved', ' Approved', ' Approved', ' Approved',\n",
       "       ' Approved', ' Rejected', ' Rejected', ' Approved', ' Approved',\n",
       "       ' Rejected', ' Rejected', ' Approved', ' Approved', ' Approved',\n",
       "       ' Approved', ' Approved', ' Approved', ' Approved', ' Approved',\n",
       "       ' Rejected', ' Approved', ' Rejected', ' Approved', ' Rejected',\n",
       "       ' Approved', ' Approved', ' Rejected', ' Rejected', ' Approved',\n",
       "       ' Approved', ' Approved', ' Approved', ' Rejected', ' Approved',\n",
       "       ' Rejected', ' Rejected', ' Approved', ' Approved', ' Approved',\n",
       "       ' Rejected', ' Rejected', ' Rejected', ' Rejected', ' Approved',\n",
       "       ' Approved', ' Approved', ' Approved', ' Approved', ' Rejected',\n",
       "       ' Rejected', ' Rejected', ' Approved', ' Rejected', ' Approved',\n",
       "       ' Approved', ' Approved', ' Rejected', ' Rejected', ' Approved',\n",
       "       ' Approved', ' Approved', ' Rejected', ' Rejected', ' Approved',\n",
       "       ' Approved', ' Approved', ' Rejected', ' Approved', ' Approved',\n",
       "       ' Approved', ' Approved', ' Rejected', ' Rejected', ' Approved',\n",
       "       ' Rejected', ' Rejected', ' Approved', ' Approved', ' Approved',\n",
       "       ' Approved', ' Approved', ' Rejected', ' Rejected', ' Approved',\n",
       "       ' Approved', ' Approved', ' Rejected', ' Approved', ' Rejected',\n",
       "       ' Approved', ' Approved', ' Approved', ' Approved', ' Rejected',\n",
       "       ' Rejected', ' Rejected', ' Approved', ' Rejected', ' Rejected',\n",
       "       ' Approved', ' Approved', ' Approved', ' Rejected', ' Approved',\n",
       "       ' Rejected', ' Rejected', ' Approved', ' Rejected', ' Approved',\n",
       "       ' Approved', ' Approved', ' Approved', ' Rejected', ' Approved',\n",
       "       ' Approved', ' Approved', ' Approved', ' Rejected', ' Rejected',\n",
       "       ' Rejected', ' Approved', ' Approved', ' Rejected', ' Rejected',\n",
       "       ' Approved', ' Rejected', ' Rejected', ' Approved', ' Approved',\n",
       "       ' Rejected', ' Rejected', ' Approved', ' Approved', ' Approved',\n",
       "       ' Approved', ' Approved', ' Approved', ' Approved', ' Rejected',\n",
       "       ' Approved', ' Rejected', ' Approved', ' Approved', ' Rejected',\n",
       "       ' Rejected', ' Approved', ' Rejected', ' Rejected', ' Approved',\n",
       "       ' Approved', ' Approved', ' Approved', ' Rejected', ' Rejected',\n",
       "       ' Rejected', ' Rejected', ' Approved', ' Approved', ' Rejected',\n",
       "       ' Approved', ' Rejected', ' Approved', ' Approved', ' Approved',\n",
       "       ' Approved', ' Rejected', ' Approved', ' Rejected', ' Approved',\n",
       "       ' Rejected', ' Rejected', ' Rejected', ' Approved', ' Rejected',\n",
       "       ' Approved', ' Approved', ' Approved', ' Rejected', ' Approved',\n",
       "       ' Approved', ' Rejected', ' Approved', ' Approved', ' Approved',\n",
       "       ' Rejected', ' Approved', ' Approved', ' Approved', ' Approved',\n",
       "       ' Rejected', ' Approved', ' Rejected', ' Approved', ' Approved',\n",
       "       ' Rejected', ' Approved', ' Approved', ' Approved', ' Approved',\n",
       "       ' Rejected', ' Rejected', ' Rejected', ' Approved', ' Approved',\n",
       "       ' Rejected', ' Approved', ' Approved', ' Approved', ' Approved',\n",
       "       ' Rejected', ' Rejected', ' Rejected', ' Approved', ' Approved',\n",
       "       ' Rejected', ' Rejected', ' Rejected', ' Approved', ' Approved',\n",
       "       ' Approved', ' Rejected', ' Approved', ' Approved', ' Approved',\n",
       "       ' Rejected', ' Approved', ' Approved', ' Approved', ' Approved',\n",
       "       ' Rejected', ' Rejected', ' Rejected', ' Approved', ' Approved',\n",
       "       ' Rejected', ' Approved', ' Approved', ' Approved', ' Approved',\n",
       "       ' Rejected', ' Approved', ' Approved', ' Approved', ' Approved',\n",
       "       ' Rejected', ' Approved', ' Rejected', ' Approved', ' Rejected',\n",
       "       ' Approved', ' Approved', ' Approved', ' Approved', ' Approved',\n",
       "       ' Approved', ' Approved', ' Rejected', ' Rejected', ' Rejected',\n",
       "       ' Rejected', ' Approved', ' Rejected', ' Rejected', ' Rejected',\n",
       "       ' Approved', ' Approved', ' Approved', ' Rejected', ' Rejected',\n",
       "       ' Approved', ' Approved', ' Rejected', ' Rejected', ' Approved',\n",
       "       ' Rejected', ' Approved', ' Rejected', ' Approved', ' Approved',\n",
       "       ' Approved', ' Approved', ' Approved', ' Rejected', ' Rejected',\n",
       "       ' Approved', ' Rejected', ' Rejected', ' Approved', ' Rejected',\n",
       "       ' Approved', ' Rejected', ' Approved', ' Rejected', ' Approved',\n",
       "       ' Approved', ' Approved', ' Rejected', ' Rejected', ' Approved',\n",
       "       ' Approved', ' Approved', ' Approved', ' Approved', ' Approved',\n",
       "       ' Rejected', ' Approved', ' Rejected', ' Rejected', ' Rejected',\n",
       "       ' Approved', ' Approved', ' Approved', ' Approved', ' Approved',\n",
       "       ' Approved', ' Rejected', ' Approved', ' Rejected', ' Rejected',\n",
       "       ' Approved', ' Approved', ' Rejected', ' Approved', ' Approved',\n",
       "       ' Approved', ' Approved', ' Approved', ' Approved', ' Approved',\n",
       "       ' Rejected', ' Approved', ' Rejected', ' Rejected', ' Approved',\n",
       "       ' Approved', ' Approved', ' Approved', ' Approved', ' Rejected',\n",
       "       ' Approved', ' Approved', ' Approved', ' Rejected', ' Approved',\n",
       "       ' Rejected', ' Approved', ' Rejected', ' Approved', ' Rejected',\n",
       "       ' Approved', ' Rejected', ' Approved', ' Approved', ' Rejected',\n",
       "       ' Approved', ' Approved', ' Approved', ' Approved', ' Rejected',\n",
       "       ' Rejected', ' Approved', ' Approved', ' Approved', ' Approved',\n",
       "       ' Rejected', ' Approved', ' Rejected', ' Approved', ' Approved',\n",
       "       ' Rejected', ' Approved', ' Rejected', ' Approved', ' Approved',\n",
       "       ' Approved', ' Rejected', ' Approved', ' Approved', ' Approved',\n",
       "       ' Rejected', ' Approved', ' Approved', ' Rejected', ' Approved',\n",
       "       ' Approved', ' Approved', ' Rejected', ' Approved', ' Approved',\n",
       "       ' Approved', ' Approved', ' Rejected', ' Approved', ' Rejected',\n",
       "       ' Rejected', ' Approved', ' Approved', ' Rejected', ' Approved',\n",
       "       ' Approved', ' Approved', ' Approved', ' Approved', ' Rejected',\n",
       "       ' Approved', ' Rejected', ' Approved', ' Approved', ' Approved',\n",
       "       ' Approved', ' Rejected', ' Approved', ' Rejected', ' Rejected',\n",
       "       ' Rejected', ' Approved', ' Approved', ' Approved', ' Approved',\n",
       "       ' Rejected', ' Approved', ' Rejected', ' Approved', ' Approved',\n",
       "       ' Rejected', ' Approved', ' Approved', ' Approved', ' Approved',\n",
       "       ' Rejected', ' Approved', ' Approved', ' Rejected', ' Approved',\n",
       "       ' Approved', ' Rejected', ' Approved', ' Approved', ' Approved',\n",
       "       ' Approved', ' Approved', ' Approved', ' Rejected', ' Rejected',\n",
       "       ' Approved', ' Approved', ' Rejected', ' Approved', ' Rejected',\n",
       "       ' Rejected', ' Approved', ' Rejected', ' Approved', ' Approved',\n",
       "       ' Rejected', ' Approved', ' Approved', ' Rejected', ' Rejected',\n",
       "       ' Approved', ' Rejected', ' Approved', ' Approved', ' Approved',\n",
       "       ' Approved', ' Rejected', ' Approved', ' Rejected', ' Approved',\n",
       "       ' Rejected', ' Rejected', ' Approved', ' Rejected', ' Rejected',\n",
       "       ' Rejected', ' Rejected', ' Approved', ' Rejected', ' Approved',\n",
       "       ' Approved', ' Approved', ' Approved', ' Rejected', ' Approved',\n",
       "       ' Rejected', ' Approved', ' Approved', ' Rejected', ' Approved',\n",
       "       ' Approved', ' Rejected', ' Rejected', ' Approved', ' Approved',\n",
       "       ' Approved', ' Rejected', ' Approved', ' Approved', ' Approved',\n",
       "       ' Approved', ' Rejected', ' Approved', ' Rejected', ' Approved',\n",
       "       ' Approved', ' Rejected', ' Rejected', ' Approved', ' Rejected',\n",
       "       ' Rejected', ' Approved', ' Rejected', ' Approved', ' Approved',\n",
       "       ' Rejected', ' Rejected', ' Approved', ' Approved', ' Approved',\n",
       "       ' Rejected', ' Approved', ' Approved', ' Approved', ' Rejected',\n",
       "       ' Approved', ' Approved', ' Approved', ' Approved', ' Rejected',\n",
       "       ' Rejected', ' Approved', ' Approved', ' Approved', ' Approved',\n",
       "       ' Approved', ' Rejected', ' Rejected', ' Approved', ' Rejected',\n",
       "       ' Approved', ' Approved', ' Rejected', ' Rejected', ' Rejected',\n",
       "       ' Rejected', ' Rejected', ' Approved', ' Approved', ' Rejected',\n",
       "       ' Approved', ' Approved', ' Approved', ' Rejected', ' Rejected',\n",
       "       ' Approved', ' Approved', ' Approved', ' Rejected', ' Approved',\n",
       "       ' Approved', ' Approved', ' Rejected', ' Rejected', ' Approved',\n",
       "       ' Rejected', ' Approved', ' Approved', ' Approved', ' Approved',\n",
       "       ' Approved', ' Approved', ' Rejected', ' Approved', ' Approved',\n",
       "       ' Approved', ' Approved', ' Approved', ' Approved', ' Rejected',\n",
       "       ' Rejected', ' Approved', ' Approved', ' Approved', ' Approved',\n",
       "       ' Approved', ' Approved', ' Rejected', ' Rejected', ' Rejected',\n",
       "       ' Rejected', ' Approved', ' Rejected', ' Approved', ' Approved',\n",
       "       ' Approved', ' Rejected', ' Rejected', ' Approved', ' Approved',\n",
       "       ' Rejected', ' Approved', ' Approved', ' Approved', ' Rejected',\n",
       "       ' Approved', ' Rejected', ' Rejected', ' Approved', ' Rejected',\n",
       "       ' Approved', ' Approved', ' Rejected', ' Approved', ' Approved',\n",
       "       ' Approved', ' Rejected', ' Rejected', ' Approved', ' Approved',\n",
       "       ' Approved', ' Approved', ' Rejected', ' Rejected', ' Approved',\n",
       "       ' Rejected', ' Rejected', ' Approved', ' Approved', ' Rejected',\n",
       "       ' Rejected', ' Approved', ' Approved', ' Approved', ' Rejected',\n",
       "       ' Rejected', ' Approved', ' Approved', ' Rejected', ' Rejected',\n",
       "       ' Approved', ' Rejected', ' Approved', ' Rejected', ' Approved',\n",
       "       ' Rejected', ' Approved', ' Rejected', ' Rejected'], dtype=object)"
      ]
     },
     "execution_count": 30,
     "metadata": {},
     "output_type": "execute_result"
    }
   ],
   "source": [
    "y_pred"
   ]
  },
  {
   "cell_type": "code",
   "execution_count": 31,
   "id": "04ba22bb",
   "metadata": {},
   "outputs": [
    {
     "name": "stdout",
     "output_type": "stream",
     "text": [
      "[' Approved']\n"
     ]
    },
    {
     "name": "stderr",
     "output_type": "stream",
     "text": [
      "C:\\Users\\saisr\\anaconda3\\lib\\site-packages\\sklearn\\base.py:464: UserWarning: X does not have valid feature names, but KNeighborsClassifier was fitted with feature names\n",
      "  warnings.warn(\n"
     ]
    }
   ],
   "source": [
    "new_applicant = [[2000,0]]\n",
    "x=knn.predict(new_applicant)\n",
    "print(x)"
   ]
  },
  {
   "cell_type": "code",
   "execution_count": 32,
   "id": "5e5d887d",
   "metadata": {},
   "outputs": [
    {
     "name": "stdout",
     "output_type": "stream",
     "text": [
      "yes,your loan has been approved\n"
     ]
    },
    {
     "name": "stderr",
     "output_type": "stream",
     "text": [
      "C:\\Users\\saisr\\anaconda3\\lib\\site-packages\\sklearn\\base.py:464: UserWarning: X does not have valid feature names, but KNeighborsClassifier was fitted with feature names\n",
      "  warnings.warn(\n"
     ]
    }
   ],
   "source": [
    "new_applicant = [[19000,400]]\n",
    "x=knn.predict(new_applicant)\n",
    "if x==' Rejected':\n",
    "    print(\"sorry your application has reject\")\n",
    "else:\n",
    "    print(\"yes,your loan has been approved\")"
   ]
  },
  {
   "cell_type": "code",
   "execution_count": 33,
   "id": "726692e0",
   "metadata": {},
   "outputs": [
    {
     "name": "stdout",
     "output_type": "stream",
     "text": [
      "              precision    recall  f1-score   support\n",
      "\n",
      "    Approved       0.89      0.87      0.88       536\n",
      "    Rejected       0.78      0.82      0.80       318\n",
      "\n",
      "    accuracy                           0.85       854\n",
      "   macro avg       0.84      0.84      0.84       854\n",
      "weighted avg       0.85      0.85      0.85       854\n",
      "\n"
     ]
    },
    {
     "data": {
      "image/png": "[encoded data removed]",
      "text/plain": [
       "<Figure size 500x400 with 2 Axes>"
      ]
     },
     "metadata": {},
     "output_type": "display_data"
    }
   ],
   "source": [
    "model_evaluate(knn,x_test)"
   ]
  },
  {
   "cell_type": "code",
   "execution_count": 34,
   "id": "5bb6c202",
   "metadata": {},
   "outputs": [
    {
     "data": {
      "text/html": [
       "<style>#sk-container-id-3 {color: black;}#sk-container-id-3 pre{padding: 0;}#sk-container-id-3 div.sk-toggleable {background-color: white;}#sk-container-id-3 label.sk-toggleable__label {cursor: pointer;display: block;width: 100%;margin-bottom: 0;padding: 0.3em;box-sizing: border-box;text-align: center;}#sk-container-id-3 label.sk-toggleable__label-arrow:before {content: \"▸\";float: left;margin-right: 0.25em;color: #696969;}#sk-container-id-3 label.sk-toggleable__label-arrow:hover:before {color: black;}#sk-container-id-3 div.sk-estimator:hover label.sk-toggleable__label-arrow:before {color: black;}#sk-container-id-3 div.sk-toggleable__content {max-height: 0;max-width: 0;overflow: hidden;text-align: left;background-color: #f0f8ff;}#sk-container-id-3 div.sk-toggleable__content pre {margin: 0.2em;color: black;border-radius: 0.25em;background-color: #f0f8ff;}#sk-container-id-3 input.sk-toggleable__control:checked~div.sk-toggleable__content {max-height: 200px;max-width: 100%;overflow: auto;}#sk-container-id-3 input.sk-toggleable__control:checked~label.sk-toggleable__label-arrow:before {content: \"▾\";}#sk-container-id-3 div.sk-estimator input.sk-toggleable__control:checked~label.sk-toggleable__label {background-color: #d4ebff;}#sk-container-id-3 div.sk-label input.sk-toggleable__control:checked~label.sk-toggleable__label {background-color: #d4ebff;}#sk-container-id-3 input.sk-hidden--visually {border: 0;clip: rect(1px 1px 1px 1px);clip: rect(1px, 1px, 1px, 1px);height: 1px;margin: -1px;overflow: hidden;padding: 0;position: absolute;width: 1px;}#sk-container-id-3 div.sk-estimator {font-family: monospace;background-color: #f0f8ff;border: 1px dotted black;border-radius: 0.25em;box-sizing: border-box;margin-bottom: 0.5em;}#sk-container-id-3 div.sk-estimator:hover {background-color: #d4ebff;}#sk-container-id-3 div.sk-parallel-item::after {content: \"\";width: 100%;border-bottom: 1px solid gray;flex-grow: 1;}#sk-container-id-3 div.sk-label:hover label.sk-toggleable__label {background-color: #d4ebff;}#sk-container-id-3 div.sk-serial::before {content: \"\";position: absolute;border-left: 1px solid gray;box-sizing: border-box;top: 0;bottom: 0;left: 50%;z-index: 0;}#sk-container-id-3 div.sk-serial {display: flex;flex-direction: column;align-items: center;background-color: white;padding-right: 0.2em;padding-left: 0.2em;position: relative;}#sk-container-id-3 div.sk-item {position: relative;z-index: 1;}#sk-container-id-3 div.sk-parallel {display: flex;align-items: stretch;justify-content: center;background-color: white;position: relative;}#sk-container-id-3 div.sk-item::before, #sk-container-id-3 div.sk-parallel-item::before {content: \"\";position: absolute;border-left: 1px solid gray;box-sizing: border-box;top: 0;bottom: 0;left: 50%;z-index: -1;}#sk-container-id-3 div.sk-parallel-item {display: flex;flex-direction: column;z-index: 1;position: relative;background-color: white;}#sk-container-id-3 div.sk-parallel-item:first-child::after {align-self: flex-end;width: 50%;}#sk-container-id-3 div.sk-parallel-item:last-child::after {align-self: flex-start;width: 50%;}#sk-container-id-3 div.sk-parallel-item:only-child::after {width: 0;}#sk-container-id-3 div.sk-dashed-wrapped {border: 1px dashed gray;margin: 0 0.4em 0.5em 0.4em;box-sizing: border-box;padding-bottom: 0.4em;background-color: white;}#sk-container-id-3 div.sk-label label {font-family: monospace;font-weight: bold;display: inline-block;line-height: 1.2em;}#sk-container-id-3 div.sk-label-container {text-align: center;}#sk-container-id-3 div.sk-container {/* jupyter's `normalize.less` sets `[hidden] { display: none; }` but bootstrap.min.css set `[hidden] { display: none !important; }` so we also need the `!important` here to be able to override the default hidden behavior on the sphinx rendered scikit-learn.org. See: https://github.com/scikit-learn/scikit-learn/issues/21755 */display: inline-block !important;position: relative;}#sk-container-id-3 div.sk-text-repr-fallback {display: none;}</style><div id=\"sk-container-id-3\" class=\"sk-top-container\"><div class=\"sk-text-repr-fallback\"><pre>RandomForestClassifier(random_state=42)</pre><b>In a Jupyter environment, please rerun this cell to show the HTML representation or trust the notebook. <br />On GitHub, the HTML representation is unable to render, please try loading this page with nbviewer.org.</b></div><div class=\"sk-container\" hidden><div class=\"sk-item\"><div class=\"sk-estimator sk-toggleable\"><input class=\"sk-toggleable__control sk-hidden--visually\" id=\"sk-estimator-id-3\" type=\"checkbox\" checked><label for=\"sk-estimator-id-3\" class=\"sk-toggleable__label sk-toggleable__label-arrow\">RandomForestClassifier</label><div class=\"sk-toggleable__content\"><pre>RandomForestClassifier(random_state=42)</pre></div></div></div></div></div>"
      ],
      "text/plain": [
       "RandomForestClassifier(random_state=42)"
      ]
     },
     "execution_count": 34,
     "metadata": {},
     "output_type": "execute_result"
    }
   ],
   "source": [
    "from sklearn.ensemble import RandomForestClassifier\n",
    "rf_classifier = RandomForestClassifier(n_estimators=100, random_state=42)\n",
    "\n",
    "# Train the classifier\n",
    "rf_classifier.fit(x_train, y_train)"
   ]
  },
  {
   "cell_type": "code",
   "execution_count": 35,
   "id": "4060e239",
   "metadata": {},
   "outputs": [
    {
     "name": "stdout",
     "output_type": "stream",
     "text": [
      "              precision    recall  f1-score   support\n",
      "\n",
      "    Approved       0.99      0.94      0.97       536\n",
      "    Rejected       0.91      0.99      0.95       318\n",
      "\n",
      "    accuracy                           0.96       854\n",
      "   macro avg       0.95      0.96      0.96       854\n",
      "weighted avg       0.96      0.96      0.96       854\n",
      "\n"
     ]
    },
    {
     "data": {
      "image/png": "[encoded data removed]",
      "text/plain": [
       "<Figure size 500x400 with 2 Axes>"
      ]
     },
     "metadata": {},
     "output_type": "display_data"
    }
   ],
   "source": [
    "model_evaluate(rf_classifier,x_test)"
   ]
  },
  {
   "cell_type": "code",
   "execution_count": 36,
   "id": "6232e087",
   "metadata": {},
   "outputs": [
    {
     "name": "stdout",
     "output_type": "stream",
     "text": [
      "yes,your loan has been approved\n"
     ]
    },
    {
     "name": "stderr",
     "output_type": "stream",
     "text": [
      "C:\\Users\\saisr\\anaconda3\\lib\\site-packages\\sklearn\\base.py:464: UserWarning: X does not have valid feature names, but RandomForestClassifier was fitted with feature names\n",
      "  warnings.warn(\n"
     ]
    }
   ],
   "source": [
    "new_applicant = [[600,14000]]\n",
    "x=rf_classifier.predict(new_applicant)\n",
    "if x==' Rejected':\n",
    "    print(\"sorry your application has reject\")\n",
    "else:\n",
    "    print(\"yes,your loan has been approved\")"
   ]
  },
  {
   "cell_type": "code",
   "execution_count": null,
   "id": "5cb038f0",
   "metadata": {},
   "outputs": [],
   "source": []
  }
 ],
 "metadata": {
  "kernelspec": {
   "display_name": "Python 3 (ipykernel)",
   "language": "python",
   "name": "python3"
  },
  "language_info": {
   "codemirror_mode": {
    "name": "ipython",
    "version": 3
   },
   "file_extension": ".py",
   "mimetype": "text/x-python",
   "name": "python",
   "nbconvert_exporter": "python",
   "pygments_lexer": "ipython3",
   "version": "3.10.9"
  }
 },
 "nbformat": 4,
 "nbformat_minor": 5
}
